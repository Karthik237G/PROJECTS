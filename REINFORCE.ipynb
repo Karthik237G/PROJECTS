{
 "cells": [
  {
   "cell_type": "code",
   "execution_count": 1,
   "id": "97dc2fb3-c6f2-4d2a-9119-a2176f32dd92",
   "metadata": {},
   "outputs": [],
   "source": [
    "import os\n",
    "import numpy as np\n",
    "import tensorflow as tf"
   ]
  },
  {
   "cell_type": "code",
   "execution_count": 7,
   "id": "19691967-d02c-4685-9629-0cd689466dd4",
   "metadata": {},
   "outputs": [],
   "source": [
    "class deepQnetwork(object):\n",
    "    def __init__(self,lr,n_actions,name,fcl_dims=256,input_dims=(210,160,4),chkpt_dir='tmp/dqn'):\n",
    "        self.lr=le\n",
    "        self.n_actions=n_actions\n",
    "        self.name=name\n",
    "        self.fcl_dims=fcl_dims\n",
    "        slef.input_dims=input_dims\n",
    "        self.sess=tf.Session()\n",
    "        self.build_network()\n",
    "        self.sess.run(tf.global_variables_initializer())\n",
    "        self.saver=tf.train.Saver()\n",
    "        self.checkpoint_file=os.path.join(chkpt_dir,'deepQnet.ckpt')\n",
    "        self.params=tf.get_collection(tf.GraphKeys.TRAINABLE_VARIABLES,scope=self.name)\n",
    "        \n",
    "    def build_net(self):\n",
    "        with tf.variable_scope(self.name):\n",
    "            self.input=tf.placeholder(tf.float32,shape=[None,*self.input_dims],name='inputs')\n",
    "            self.actions=tf.placeholder(tf.float32,shape=[None,self.n_actions],name='action_taken')\n",
    "            self.q_target=tf.placeholder(tf.float32,shape=[None,self.input_dims])\n",
    "            conv1=tf.layers.conv2d(inputs=self.input,filtres=32,kernal_size=(8,8),strides=4,name='conv1',kernal_initializer=tf.variance_scaling_initializer(scale=2))            \n",
    "            conv1_activated=tf.nn.relu(conv1)\n",
    "            conv2=tf.layers.conv2d(inputs=conv1_activated,filtres=64,kernal_size=(4,4),strides=2,name='conv2',kernal_initializer=tf.variance_scaling_initializer(scale=2))\n",
    "            conv2_activated=tf.nn.relu(conv2)\n",
    "            conv3=tf.layers.conv2d(inputs=conv2_activated,filtres=128,kernal_size=(3,3),strides=1,name='conv3',kernal_initializer=tf.variance_scaling_initializer(scale=2))\n",
    "            conv3_activated=tf.nn.relu(conv3)\n",
    "            flat=tf.layers.flatten(conv3_activated)\n",
    "            dense1=tf.layer.dense(flat,units=self.fcl_dims,activation=tf.nn.relu,kernal_initializer=tf.variance_scaling_initializer(scale=2))\n",
    "            self.Q_values=tf.layer.dense(flat,units=self.n_actions,kernal_initializer=tf.variance_scaling_initializer(scale=2))\n",
    "            self.q=tf.reduce_sum(tf.multiply(self.Q_values,self.actions))\n",
    "            self.loss=tf.reduce_mean(tf.square(self.q-self.q_target))\n",
    "            self.train_op=tf.train.AdamOptimizer(self.lr).minimize(self.loss)\n",
    "\n",
    "    def load_checkpoint(self):\n",
    "        print('loadingcheckpoint')\n",
    "        self.saver.restore(self.sess,self.checkpoint_file)\n",
    "\n",
    "    def save_checkpoint(self):\n",
    "        print('saving')\n",
    "        self.saver.save(self.sess,self.checkpoint_file)\n"
   ]
  },
  {
   "cell_type": "code",
   "execution_count": 8,
   "id": "72f9b314-4f8c-48f3-b8a5-66f7e0033a5e",
   "metadata": {},
   "outputs": [
    {
     "ename": "SyntaxError",
     "evalue": "invalid syntax (425448500.py, line 39)",
     "output_type": "error",
     "traceback": [
      "\u001b[1;36m  Cell \u001b[1;32mIn[8], line 39\u001b[1;36m\u001b[0m\n\u001b[1;33m    if self.mem_cntr%self.replace_target==:\u001b[0m\n\u001b[1;37m                                          ^\u001b[0m\n\u001b[1;31mSyntaxError\u001b[0m\u001b[1;31m:\u001b[0m invalid syntax\n"
     ]
    }
   ],
   "source": [
    "class agent(object):\n",
    "    def __init__(self,alpha,gamma,mem_size,n_actions,epsilon,batch_size,replace_target=5000,input_dims=(210,160,4),q_next='tmo/q_next',q_eval='tmp/q_eval'):\n",
    "        self.n_actions=n_actions\n",
    "        self.action_space=[ i for i in range(self.n_actions)]\n",
    "        self.gamma=gamma\n",
    "        self.mem_size=mem_size\n",
    "        self.epislon=epislon\n",
    "        self.batch_size=batch_size\n",
    "        self.mem_cntr=0\n",
    "        self.replace_target=replace_target\n",
    "        self.q_next=deepQnetwork(alpha,n_actions,input_dims=input_dims,name='q_next',chkpt_dir=q_next_dir)\n",
    "        self.q_eval=deepQnetwork(alpha,n_actions,input_dims=input_dims,name='q_eval',chkpt_dir=q_eval_dir)\n",
    "        self.state_memory=np.zeros((self.mem_size,*input_dims))\n",
    "        self.new_state_memory=np.zeros((self.mem_size,*input_dims))\n",
    "        self.action_memory=np.zeros((self.mem_size,self.n_actions))\n",
    "        self.reward_memory=np.zeros(self.mem_size)\n",
    "        self.terminal_memory=np.zeros(self.mem_size,dtype=np.int8)\n",
    "    def store_transition(self,state,action,reward,state_,terminal):\n",
    "        index=self.mem_cntr%self.mem_size\n",
    "        self.state_memory[index]=state\n",
    "        actions=np.zeros(self.n_actions)\n",
    "        actions[action]=1.0\n",
    "        self.action_memory[index]=actions\n",
    "        self.action_memory[index]=reward\n",
    "        self.new_state_memory[index]=state_\n",
    "        self.terminal_memory[index]=terminal\n",
    "        self.mem_cntr+=1\n",
    "\n",
    "    def choose_action(self,state):\n",
    "        rand=np.random.random()\n",
    "        if rand<self.epsilon:\n",
    "            action=np.random.choice(self.action_space)\n",
    "        else:\n",
    "            actions=self.q_eval.sess.run(self.q_eval.q_values,feed_dict={self.q_eval.input:state})\n",
    "            action=np.argmax(actions)\n",
    "        return action\n",
    "    \n",
    "    def lern(self):\n",
    "        if self.mem_cntr%self.replace_target==0:\n",
    "            self.update_graph()\n",
    "        max_mem=self.mem_cntr if self.mem_cntr<self.mem_size else self.mem_size\n",
    "        batch=np.random.choice(max_mem,self.batch_size)\n",
    "        state_batch=self.state_memory[batch]\n",
    "        action_batch=self.action_memory[batch]\n",
    "        action_values=np.array([0,1,2],dtype=np.int8)\n",
    "        action_indices=np.dot(action_batch,action_values)\n",
    "        reward_batch=self.reward_memory[batch]\n",
    "        terminal_batch=self.terminal_memory[batch]\n",
    "        \n",
    "        \n",
    "        "
   ]
  },
  {
   "cell_type": "code",
   "execution_count": 22,
   "id": "4b91c669-e256-41f4-b6a0-8672f8336a99",
   "metadata": {},
   "outputs": [
    {
     "ename": "SyntaxError",
     "evalue": "'(' was never closed (2658067068.py, line 5)",
     "output_type": "error",
     "traceback": [
      "\u001b[1;36m  Cell \u001b[1;32mIn[22], line 5\u001b[1;36m\u001b[0m\n\u001b[1;33m    for i in range(\u001b[0m\n\u001b[1;37m                  ^\u001b[0m\n\u001b[1;31mSyntaxError\u001b[0m\u001b[1;31m:\u001b[0m '(' was never closed\n"
     ]
    }
   ],
   "source": []
  },
  {
   "cell_type": "code",
   "execution_count": null,
   "id": "9d9a4e63-8313-4196-a17e-6ee446641059",
   "metadata": {},
   "outputs": [],
   "source": []
  }
 ],
 "metadata": {
  "kernelspec": {
   "display_name": "Python 3 (ipykernel)",
   "language": "python",
   "name": "python3"
  },
  "language_info": {
   "codemirror_mode": {
    "name": "ipython",
    "version": 3
   },
   "file_extension": ".py",
   "mimetype": "text/x-python",
   "name": "python",
   "nbconvert_exporter": "python",
   "pygments_lexer": "ipython3",
   "version": "3.11.7"
  }
 },
 "nbformat": 4,
 "nbformat_minor": 5
}
